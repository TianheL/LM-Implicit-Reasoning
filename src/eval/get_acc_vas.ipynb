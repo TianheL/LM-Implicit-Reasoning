{
 "cells": [
  {
   "cell_type": "code",
   "execution_count": null,
   "metadata": {},
   "outputs": [
    {
     "name": "stdout",
     "output_type": "stream",
     "text": [
      "0 0.12 1 0.06 2 0.05 3 0.03 4 0.01 5 0.05 \n",
      "0 0.70 1 0.68 2 0.53 3 0.55 4 0.39 5 0.32 \n",
      "0 0.67 1 0.65 2 0.58 3 0.57 4 0.37 5 0.35 \n",
      "0 0.82 1 0.79 2 0.69 3 0.67 4 0.56 5 0.24 \n",
      "0 0.85 1 0.76 2 0.66 3 0.49 4 0.41 5 0.31 \n",
      "0 0.72 1 0.77 2 0.68 3 0.57 4 0.53 5 0.39 \n",
      "0 0.98 1 0.92 2 0.90 3 0.74 4 0.59 5 0.47 \n",
      "0 0.91 1 0.94 2 0.94 3 0.84 4 0.77 5 0.71 \n",
      "0 0.98 1 0.95 2 0.95 3 0.91 4 0.85 5 0.61 \n",
      "0 1.00 1 0.99 2 0.98 3 0.90 4 0.83 5 0.77 \n",
      "0 0.95 1 0.94 2 0.95 3 0.91 4 0.86 5 0.65 \n",
      "0 0.99 1 1.00 2 0.92 3 0.97 4 0.88 5 0.80 \n",
      "0 1.00 1 0.99 2 0.98 3 0.94 4 0.90 5 0.82 \n"
     ]
    }
   ],
   "source": [
    "import os\n",
    "import json\n",
    "from collections import Counter\n",
    "x_id=[0]\n",
    "x_train=[0]\n",
    "x_test_same=[0]\n",
    "x_test=[0]\n",
    "\n",
    "x_6=[0]\n",
    "x_7=[0]\n",
    "step=[0]\n",
    "\n",
    "model_dir='gpt2-rope-5step-forward'\n",
    "for iter in list(range(2000,1000000,2000)):\n",
    "    if f'checkpoint-{str(iter)}' not in os.listdir(f'../LLaMA-Factory-main/saves/{model_dir}/full/sft'):\n",
    "        break\n",
    "    with open(f'../LLaMA-Factory-main/saves/{model_dir}/full/sft/checkpoint-{str(iter)}/all_items_vas.json') as f:\n",
    "        a=json.load(f)\n",
    "    cnt_test=[]\n",
    "    step_test=[]\n",
    "    for item in a:\n",
    "        cnt_test.append(item['gt']==item['model_ans'])\n",
    "        if item['gt']==item['model_ans']:\n",
    "            step_test.append(str(item['var_as_sub']))\n",
    "        else:\n",
    "            step_test.append(str(item['var_as_sub'])+'-')\n",
    "    for i in range(0,int(a[0]['step'])):\n",
    "        print(i,\"%.2f\"%(Counter(step_test)[str(i)]/(Counter(step_test)[str(i)]+Counter(step_test)[str(i)+'-'])),end=' ')\n",
    "    print()\n"
   ]
  }
 ],
 "metadata": {
  "kernelspec": {
   "display_name": "Python 3",
   "language": "python",
   "name": "python3"
  },
  "language_info": {
   "codemirror_mode": {
    "name": "ipython",
    "version": 3
   },
   "file_extension": ".py",
   "mimetype": "text/x-python",
   "name": "python",
   "nbconvert_exporter": "python",
   "pygments_lexer": "ipython3",
   "version": "3.10.16"
  },
  "orig_nbformat": 4
 },
 "nbformat": 4,
 "nbformat_minor": 2
}
