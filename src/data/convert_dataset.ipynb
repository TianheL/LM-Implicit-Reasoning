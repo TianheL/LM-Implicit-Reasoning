{
 "cells": [
  {
   "cell_type": "code",
   "execution_count": 18,
   "metadata": {},
   "outputs": [],
   "source": [
    "import random\n",
    "import itertools\n",
    "import json\n",
    "import os\n",
    "random.seed(1)\n",
    "with open('train.json', 'r') as file:\n",
    "    train_dataset = json.load(file)\n",
    "with open('test.json', 'r') as file:\n",
    "    test_dataset = json.load(file)"
   ]
  },
  {
   "cell_type": "code",
   "execution_count": null,
   "metadata": {},
   "outputs": [
    {
     "data": {
      "text/plain": [
       "({'template': 'num0_=19-5\\nnum1_=num0_+15\\nnum2_=16+num1_',\n",
       "  'premise': 'y=19-5\\no=y+15\\nj=16+o',\n",
       "  'target': 'j',\n",
       "  'gt': 22,\n",
       "  'step': '3',\n",
       "  'type': 'train'},\n",
       " ['o=y+15\\ny=19-5\\nj=16+o\\nj>>',\n",
       "  'o=y+15\\nj=16+o\\ny=19-5\\nj>>',\n",
       "  'j=16+o\\no=y+15\\ny=19-5\\nj>>',\n",
       "  'y=19-5\\no=y+15\\nj=16+o\\nj>>',\n",
       "  'j=16+o\\ny=19-5\\no=y+15\\nj>>'])"
      ]
     },
     "execution_count": 19,
     "metadata": {},
     "output_type": "execute_result"
    }
   ],
   "source": [
    "def reorder_equations(data,order='forward',split='train'):\n",
    "    eqs = data['premise'].split(\"\\n\")\n",
    "    reorder_eqs =[]\n",
    "    if order=='forward':\n",
    "        reorder_eqs.append(\"\\n\".join(eqs+[f\"{data['target']}>>\"]))\n",
    "    elif order=='reverse':\n",
    "        reorder_eqs.append(\"\\n\".join(eqs[::-1]+[f\"{data['target']}>>\"]))\n",
    "    elif order=='random':\n",
    "        eqs_list=[perm for perm in itertools.permutations(eqs)]\n",
    "        random.shuffle(eqs_list)\n",
    "        if split=='train':\n",
    "            for eq in eqs_list[:5]:\n",
    "                reorder_eqs.append(\"\\n\".join(list(eq)+[f\"{data['target']}>>\"]))\n",
    "        else:\n",
    "            for eq in eqs_list[:1]:\n",
    "                reorder_eqs.append(\"\\n\".join(list(eq)+[f\"{data['target']}>>\"]))\n",
    "    else:\n",
    "        print('Please input correct order.')\n",
    "        raise(NotImplementedError)\n",
    "    return reorder_eqs\n",
    "\n",
    "train_dataset[0],reorder_equations(train_dataset[0],'random','train')"
   ]
  },
  {
   "cell_type": "code",
   "execution_count": 24,
   "metadata": {},
   "outputs": [
    {
     "name": "stdout",
     "output_type": "stream",
     "text": [
      "850428\n",
      "3800\n"
     ]
    }
   ],
   "source": [
    "order='random'\n",
    "save_dir=f'data_{order}'\n",
    "\n",
    "if not os.path.exists(f'../LLaMA-Factory-main/data/{save_dir}'):  \n",
    "    os.makedirs(f'../LLaMA-Factory-main/data/{save_dir}') \n",
    "\n",
    "ouf=[]\n",
    "for item in train_dataset:\n",
    "    for e in reorder_equations(item,order=order,split='train'):\n",
    "        ouf.append({'instruction': e,\n",
    "                    'input': '',\n",
    "                    'output': item['gt']})\n",
    "print(len(ouf))\n",
    "random.shuffle(ouf)\n",
    "with open(f'../LLaMA-Factory-main/data/{save_dir}/train.json', 'w') as file:\n",
    "    json.dump(ouf, file, indent=4)\n",
    "\n",
    "ouf=[]\n",
    "for item in test_dataset:\n",
    "    for e in reorder_equations(item,order=order,split='test'):\n",
    "        ouf.append({'instruction': e,\n",
    "                    'input': '',\n",
    "                    'output': item['gt']})\n",
    "print(len(ouf))\n",
    "with open(f'../LLaMA-Factory-main/data/{save_dir}/test.json', 'w') as file:\n",
    "    json.dump(ouf, file, indent=4)\n",
    "\n",
    "with open('../LLaMA-Factory-main/data/dataset_info.json') as f:\n",
    "    dataset_info=json.load(f)\n",
    "if save_dir+'-train' in dataset_info or save_dir+'-test' in dataset_info:\n",
    "    print('data_info exists!')\n",
    "else:\n",
    "    dataset_info[save_dir+'-train']={'file_name':f'{save_dir}/train.json'}\n",
    "    dataset_info[save_dir+'-test']={'file_name':f'{save_dir}/test.json'}\n",
    "\n",
    "    with open('../LLaMA-Factory-main/data/dataset_info.json','w') as f:\n",
    "        json.dump(dataset_info, f, indent=2, ensure_ascii=False)"
   ]
  }
 ],
 "metadata": {
  "kernelspec": {
   "display_name": "Python 3",
   "language": "python",
   "name": "python3"
  },
  "language_info": {
   "codemirror_mode": {
    "name": "ipython",
    "version": 3
   },
   "file_extension": ".py",
   "mimetype": "text/x-python",
   "name": "python",
   "nbconvert_exporter": "python",
   "pygments_lexer": "ipython3",
   "version": "3.10.16"
  }
 },
 "nbformat": 4,
 "nbformat_minor": 2
}
