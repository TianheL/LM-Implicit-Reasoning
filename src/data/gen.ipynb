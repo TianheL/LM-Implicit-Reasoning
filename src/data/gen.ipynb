{
 "cells": [
  {
   "cell_type": "code",
   "execution_count": 1,
   "metadata": {},
   "outputs": [],
   "source": [
    "import json\n",
    "from tqdm import trange\n",
    "import random\n",
    "from collections import Counter\n",
    "random.seed(25000)"
   ]
  },
  {
   "cell_type": "code",
   "execution_count": 2,
   "metadata": {},
   "outputs": [],
   "source": [
    "def gen(step):\n",
    "    var='num_0'\n",
    "    code=[]\n",
    "    for i in range(step):\n",
    "        var=f'num{i}_'\n",
    "        op=random.choice('+-')\n",
    "        if i==0:\n",
    "            num1=random.randint(0,22)\n",
    "            num2=random.randint(0,22)\n",
    "        else:\n",
    "            if random.randint(0,1):\n",
    "                num1=random.choice(list(range(23)))\n",
    "                num2=f'num{i-1}_'\n",
    "            else:\n",
    "                num1=f'num{i-1}_'\n",
    "                num2=random.choice(list(range(23)))\n",
    "        code.append(var+'='+str(num1)+op+str(num2))\n",
    "    exe_code='\\n'.join(code)\n",
    "    exec(exe_code)\n",
    "    return code,eval(var)"
   ]
  },
  {
   "cell_type": "code",
   "execution_count": null,
   "metadata": {},
   "outputs": [
    {
     "name": "stdout",
     "output_type": "stream",
     "text": [
      "1058\n"
     ]
    },
    {
     "name": "stderr",
     "output_type": "stream",
     "text": [
      " 25%|██▌       | 1/4 [00:04<00:14,  4.79s/it]"
     ]
    },
    {
     "name": "stdout",
     "output_type": "stream",
     "text": [
      "26058\n"
     ]
    },
    {
     "name": "stderr",
     "output_type": "stream",
     "text": [
      " 50%|█████     | 2/4 [00:13<00:14,  7.39s/it]"
     ]
    },
    {
     "name": "stdout",
     "output_type": "stream",
     "text": [
      "51058\n"
     ]
    },
    {
     "name": "stderr",
     "output_type": "stream",
     "text": [
      " 75%|███████▌  | 3/4 [00:28<00:10, 10.47s/it]"
     ]
    },
    {
     "name": "stdout",
     "output_type": "stream",
     "text": [
      "76058\n"
     ]
    },
    {
     "name": "stderr",
     "output_type": "stream",
     "text": [
      "100%|██████████| 4/4 [00:47<00:00, 11.82s/it]"
     ]
    },
    {
     "name": "stdout",
     "output_type": "stream",
     "text": [
      "101058\n",
      "{'premise': 'num0_=18-12\\nnum1_=21-num0_\\nnum2_=num1_-14\\nnum3_=num2_-1\\nnum4_=num3_-14', 'target': 'num4_', 'gt': 9, 'step': '5'}\n"
     ]
    },
    {
     "name": "stderr",
     "output_type": "stream",
     "text": [
      "\n"
     ]
    }
   ],
   "source": [
    "data_dup=[]\n",
    "template=[]\n",
    "\n",
    "for i in range(0,23):\n",
    "    for j in range(0,23):\n",
    "        tar=''\n",
    "        template.append({\"premise\": f'num0_={str(i)}+{str(j)}', 'target':'num0_', 'gt': str((i+j)%23), 'step':str(1)})\n",
    "        template.append({\"premise\": f'num0_={str(i)}-{str(j)}', 'target':'num0_', 'gt': str((i-j)%23), 'step':str(1)})\n",
    "print(len(template))\n",
    "\n",
    "for step in trange(1,5):\n",
    "    data_cnt=25000\n",
    "    while(data_cnt>0):\n",
    "        gen_code,val=gen(step+1)\n",
    "        eqs = '\\n'.join(gen_code)  \n",
    "        if eqs in data_dup:\n",
    "            continue\n",
    "        template.append({\"premise\": eqs, 'target':f'num{step}_', 'gt': str(val%23), 'step':str(step+1)})\n",
    "        data_cnt-=1\n",
    "        data_dup.append(eqs)\n",
    "    print(len(template))\n",
    "print(random.choice(template))\n"
   ]
  },
  {
   "cell_type": "code",
   "execution_count": null,
   "metadata": {},
   "outputs": [
    {
     "name": "stderr",
     "output_type": "stream",
     "text": [
      "  0%|          | 0/6 [00:00<?, ?it/s]"
     ]
    },
    {
     "name": "stdout",
     "output_type": "stream",
     "text": [
      "500\n"
     ]
    },
    {
     "name": "stderr",
     "output_type": "stream",
     "text": [
      " 33%|███▎      | 2/6 [00:00<00:01,  3.87it/s]"
     ]
    },
    {
     "name": "stdout",
     "output_type": "stream",
     "text": [
      "1000\n"
     ]
    },
    {
     "name": "stderr",
     "output_type": "stream",
     "text": [
      " 50%|█████     | 3/6 [00:01<00:01,  1.62it/s]"
     ]
    },
    {
     "name": "stdout",
     "output_type": "stream",
     "text": [
      "1500\n"
     ]
    },
    {
     "name": "stderr",
     "output_type": "stream",
     "text": [
      " 67%|██████▋   | 4/6 [00:03<00:02,  1.03s/it]"
     ]
    },
    {
     "name": "stdout",
     "output_type": "stream",
     "text": [
      "2000\n"
     ]
    },
    {
     "name": "stderr",
     "output_type": "stream",
     "text": [
      " 83%|████████▎ | 5/6 [00:05<00:01,  1.50s/it]"
     ]
    },
    {
     "name": "stdout",
     "output_type": "stream",
     "text": [
      "2500\n"
     ]
    },
    {
     "name": "stderr",
     "output_type": "stream",
     "text": [
      "100%|██████████| 6/6 [00:08<00:00,  1.43s/it]"
     ]
    },
    {
     "name": "stdout",
     "output_type": "stream",
     "text": [
      "3000\n",
      "{'premise': 'num0_=13+10\\nnum1_=num0_+19\\nnum2_=num1_-1\\nnum3_=4+num2_', 'target': 'num3_', 'gt': 22, 'step': '4'}\n"
     ]
    },
    {
     "name": "stderr",
     "output_type": "stream",
     "text": [
      "\n"
     ]
    }
   ],
   "source": [
    "test_template=[]\n",
    "for step in trange(1,7):\n",
    "    data_cnt=500\n",
    "    while(data_cnt>0):\n",
    "        gen_code,val=gen(step+1)\n",
    "        dup=False\n",
    "        for i in range(2,len(gen_code)):\n",
    "            if '\\n'.join(gen_code[:i]) in data_dup:\n",
    "                dup=True\n",
    "        if dup==True:\n",
    "            continue\n",
    "        eqs = '\\n'.join(gen_code)  \n",
    "        test_template.append({\"premise\": eqs, 'target':f'num{step}_', 'gt': str(val%23), 'step':str(step+1)})\n",
    "        data_cnt-=1\n",
    "        data_dup.append('\\n'.join(gen_code))\n",
    "    print(len(test_template))\n",
    "print(random.choice(test_template))"
   ]
  },
  {
   "cell_type": "code",
   "execution_count": 5,
   "metadata": {},
   "outputs": [],
   "source": [
    "def replace(input_text,num_list):\n",
    "    for i in range(26):\n",
    "        input_text = input_text.replace(f'num{i}_', num_list[i])\n",
    "    return input_text"
   ]
  },
  {
   "cell_type": "code",
   "execution_count": 6,
   "metadata": {},
   "outputs": [
    {
     "data": {
      "text/plain": [
       "Counter({'test': 3000, 'test_same': 400, 'train': 400})"
      ]
     },
     "execution_count": 6,
     "metadata": {},
     "output_type": "execute_result"
    }
   ],
   "source": [
    "random.seed(1)\n",
    "random.shuffle(template)\n",
    "\n",
    "train_dataset=[]\n",
    "test_dataset=[]\n",
    "\n",
    "random.seed(11)\n",
    "for item in template[:-400]:\n",
    "    alpha_list=random.sample(list('abcdefghijklmnopqrstuvwxyz'),26)\n",
    "    train_dataset.append({'template':item['premise'], 'premise': replace(item['premise'], alpha_list), 'target':alpha_list[int(item['step'])-1], 'gt': item['gt'], 'step':item['step'], 'type':'train'})\n",
    "    alpha_list2=random.sample(list('abcdefghijklmnopqrstuvwxyz'),26)\n",
    "    while(alpha_list==alpha_list2):\n",
    "        alpha_list2=random.sample(list('abcdefghijklmnopqrstuvwxyz'),26)\n",
    "    train_dataset.append({'template':item['premise'], 'premise': replace(item['premise'], alpha_list2), 'target':alpha_list2[int(item['step'])-1], 'gt': item['gt'], 'step':item['step'], 'type':'train'})\n",
    "random.seed(21)\n",
    "for item in template[-400:]:\n",
    "    alpha_list=random.sample(list('abcdefghijklmnopqrstuvwxyz'),26)\n",
    "    train_dataset.append({'template':item['premise'], 'premise': replace(item['premise'], alpha_list), 'target':alpha_list[int(item['step'])-1], 'gt': item['gt'], 'step':item['step'], 'type':'train'})\n",
    "    alpha_list2=random.sample(list('abcdefghijklmnopqrstuvwxyz'),26)\n",
    "    while(alpha_list==alpha_list2):\n",
    "        alpha_list2=random.sample(list('abcdefghijklmnopqrstuvwxyz'),26)\n",
    "    test_dataset.append({'template':item['premise'], 'premise': replace(item['premise'], alpha_list2), 'target':alpha_list2[int(item['step'])-1], 'gt': item['gt'], 'step':item['step'], 'type':'test_same'})\n",
    "random.seed(31)\n",
    "for item in test_template:\n",
    "    alpha_list=random.sample(list('abcdefghijklmnopqrstuvwxyz'),26)\n",
    "    test_dataset.append({'template':item['premise'], 'premise': replace(item['premise'], alpha_list), 'target':alpha_list[int(item['step'])-1], 'gt': item['gt'], 'step':item['step'], 'type':'test'})\n",
    "    \n",
    "random.seed(1)\n",
    "test_dataset+=random.sample(train_dataset,400)\n",
    "Counter([item['type'] for item in test_dataset])\n"
   ]
  },
  {
   "cell_type": "code",
   "execution_count": 7,
   "metadata": {},
   "outputs": [
    {
     "data": {
      "text/plain": [
       "{'template': 'num0_=5+19\\nnum1_=num0_-14',\n",
       " 'premise': 'f=5+19\\nn=f-14',\n",
       " 'target': 'n',\n",
       " 'gt': 10,\n",
       " 'step': '2',\n",
       " 'type': 'train'}"
      ]
     },
     "execution_count": 7,
     "metadata": {},
     "output_type": "execute_result"
    }
   ],
   "source": [
    "random.choice(train_dataset)"
   ]
  },
  {
   "cell_type": "code",
   "execution_count": 8,
   "metadata": {},
   "outputs": [
    {
     "data": {
      "text/plain": [
       "{'template': 'num0_=15-3\\nnum1_=num0_-10\\nnum2_=num1_-4\\nnum3_=num2_+22\\nnum4_=num3_-10\\nnum5_=22+num4_\\nnum6_=1-num5_',\n",
       " 'premise': 'g=15-3\\np=g-10\\nh=p-4\\nx=h+22\\nj=x-10\\nl=22+j\\nd=1-l',\n",
       " 'target': 'd',\n",
       " 'gt': 15,\n",
       " 'step': '7',\n",
       " 'type': 'test'}"
      ]
     },
     "execution_count": 8,
     "metadata": {},
     "output_type": "execute_result"
    }
   ],
   "source": [
    "random.choice(test_dataset)"
   ]
  },
  {
   "cell_type": "code",
   "execution_count": 9,
   "metadata": {},
   "outputs": [
    {
     "name": "stdout",
     "output_type": "stream",
     "text": [
      "201716\n",
      "3800\n"
     ]
    }
   ],
   "source": [
    "random.seed(1)\n",
    "random.shuffle(train_dataset)\n",
    "\n",
    "with open('train.json','w') as f:\n",
    "    print(len(train_dataset))\n",
    "    json.dump(train_dataset,f)\n",
    "with open('test.json','w') as f:\n",
    "    print(len(test_dataset))\n",
    "    json.dump(test_dataset,f)"
   ]
  },
  {
   "cell_type": "markdown",
   "metadata": {},
   "source": [
    "# Generate variable as subtrahend"
   ]
  },
  {
   "cell_type": "code",
   "execution_count": null,
   "metadata": {},
   "outputs": [
    {
     "data": {
      "text/plain": [
       "2"
      ]
     },
     "execution_count": 11,
     "metadata": {},
     "output_type": "execute_result"
    }
   ],
   "source": [
    "import re\n",
    "\n",
    "data = \"\"\"\n",
    "b=10-1\n",
    "k=20-b\n",
    "r=20+k\n",
    "p=17-r\n",
    "d=p-15\"\"\"\n",
    "def get_num(data):\n",
    "    pattern = r'\\d+-[a-zA-Z]'\n",
    "    lines = data.strip().split('\\n')\n",
    "    count = sum(1 for line in lines if re.search(pattern, line))\n",
    "    return count\n",
    "get_num(data)"
   ]
  },
  {
   "cell_type": "code",
   "execution_count": null,
   "metadata": {},
   "outputs": [
    {
     "name": "stderr",
     "output_type": "stream",
     "text": [
      "Generating Data:   0%|          | 0/171 [00:00<?, ?it/s]"
     ]
    },
    {
     "name": "stderr",
     "output_type": "stream",
     "text": [
      "Generating Data: 100%|██████████| 171/171 [01:40<00:00,  1.69it/s]\n"
     ]
    },
    {
     "data": {
      "text/plain": [
       "Counter({2: 100, 0: 100, 3: 100, 1: 100, 4: 100})"
      ]
     },
     "execution_count": 29,
     "metadata": {},
     "output_type": "execute_result"
    }
   ],
   "source": [
    "step=5\n",
    "\n",
    "from tqdm import tqdm\n",
    "vas_template=[]\n",
    "count_dict = {}  \n",
    "for item in range(step):\n",
    "    count_dict[item]=0\n",
    "for item in test_template:\n",
    "    if item['step']==str(step) and count_dict[get_num(item['premise'])]<100:\n",
    "        item['var_as_sub']=get_num(item['premise'])\n",
    "        vas_template.append(item)\n",
    "        count_dict[get_num(item['premise'])]+=1\n",
    "\n",
    "progress_bar = tqdm(total=step*100-sum(count_dict.values()), desc=\"Generating Data\")  \n",
    "while any(count < 100 for count in count_dict.values()):  \n",
    "    gen_code,val=gen(step)\n",
    "    dup=False\n",
    "    for i in range(2,len(gen_code)):\n",
    "        if '\\n'.join(gen_code[:i]) in data_dup:\n",
    "            dup=True\n",
    "    if dup==True:\n",
    "        continue\n",
    "    eqs = '\\n'.join(gen_code)  \n",
    "    count_value = get_num(eqs)  \n",
    "    if count_value in count_dict and count_dict[count_value] < 100:  \n",
    "        vas_template.append({\"premise\": eqs, 'target':f'num{step}_', 'gt': str(val%23), 'step':str(step), 'var_as_sub':count_value})\n",
    "        count_dict[count_value] += 1  \n",
    "        progress_bar.update(1)  \n",
    "progress_bar.close()\n",
    "Counter([get_num(item['premise']) for item in vas_template])\n"
   ]
  },
  {
   "cell_type": "code",
   "execution_count": 30,
   "metadata": {},
   "outputs": [
    {
     "name": "stdout",
     "output_type": "stream",
     "text": [
      "500\n"
     ]
    }
   ],
   "source": [
    "random.seed(31)\n",
    "vas_dataset=[]\n",
    "for item in vas_template:\n",
    "    alpha_list=random.sample(list('abcdefghijklmnopqrstuvwxyz'),26)\n",
    "    vas_dataset.append({'template':item['premise'], 'premise': replace(item['premise'], alpha_list), 'target':alpha_list[int(item['step'])-1], 'gt': item['gt'], 'step':item['step'], 'var_as_sub':item['var_as_sub'], 'type':'test'})\n",
    "with open('test_vas.json','w') as f:\n",
    "    print(len(vas_dataset))\n",
    "    json.dump(vas_dataset,f)"
   ]
  }
 ],
 "metadata": {
  "kernelspec": {
   "display_name": "Python 3",
   "language": "python",
   "name": "python3"
  },
  "language_info": {
   "codemirror_mode": {
    "name": "ipython",
    "version": 3
   },
   "file_extension": ".py",
   "mimetype": "text/x-python",
   "name": "python",
   "nbconvert_exporter": "python",
   "pygments_lexer": "ipython3",
   "version": "3.10.16"
  },
  "orig_nbformat": 4
 },
 "nbformat": 4,
 "nbformat_minor": 2
}
