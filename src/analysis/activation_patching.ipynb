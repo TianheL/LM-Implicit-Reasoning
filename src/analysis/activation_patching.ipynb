{
 "cells": [
  {
   "cell_type": "code",
   "execution_count": null,
   "metadata": {},
   "outputs": [],
   "source": [
    "import numpy as np\n",
    "import json\n",
    "from tqdm import tqdm\n",
    "import random\n",
    "import matplotlib.pyplot as plt\n",
    "import matplotlib.colors as mcolors\n",
    "\n",
    "import sys\n",
    "sys.path.append('../model')\n",
    "import torch\n",
    "from transformers import AutoConfig, AutoModelForCausalLM, AutoTokenizer\n",
    "from modeling_gpt2_rope import GPT2LMHeadModelWithRoPE, GPT2ModelWithRoPE\n",
    "from configuration_gpt2_rope import GPT2WithRoPEConfig\n",
    "AutoConfig.register(\"gpt2-rope\", GPT2WithRoPEConfig)\n",
    "AutoModelForCausalLM.register(GPT2WithRoPEConfig, GPT2LMHeadModelWithRoPE)"
   ]
  },
  {
   "cell_type": "code",
   "execution_count": null,
   "metadata": {},
   "outputs": [],
   "source": [
    "device='cuda:0'\n",
    "model_path='YOUR_MODEL_PATH'\n",
    "\n",
    "model = AutoModelForCausalLM.from_pretrained(model_path).to(device)\n",
    "model=model.eval()\n",
    "word_embedding = model.lm_head.weight.data\n",
    "tokenizer = AutoTokenizer.from_pretrained(model_path)\n",
    "tokenizer.padding_side = \"left\"\n",
    "tokenizer.pad_token = tokenizer.eos_token\n",
    "tokenizer.pad_token_id = tokenizer.eos_token_id\n",
    "model.config.pad_token_id = model.config.eos_token_id"
   ]
  },
  {
   "cell_type": "code",
   "execution_count": 4,
   "metadata": {},
   "outputs": [],
   "source": [
    "def get_pe_residual(org_ques,per_ques):\n",
    "    local_vars = {}\n",
    "    decoder_temp = tokenizer([org_ques], return_tensors=\"pt\", padding=True)\n",
    "    decoder_input_ids, decoder_attention_mask = decoder_temp[\"input_ids\"], decoder_temp[\"attention_mask\"]\n",
    "    decoder_input_ids, decoder_attention_mask = decoder_input_ids.to(device), decoder_attention_mask.to(device)\n",
    "    with torch.no_grad():\n",
    "        outputs = model(\n",
    "            input_ids=decoder_input_ids,\n",
    "            output_hidden_states=True\n",
    "        )\n",
    "    all_hidden_states = outputs['hidden_states']\n",
    "    exec(org_ques[:-2],local_vars)\n",
    "    # print(org_ques[:-2])\n",
    "    gt=str(local_vars[org_ques[-3]]%23)\n",
    "    # print(gt)\n",
    "    # print(gt==tokenizer.decode(outputs.logits[0,-1,:].argmax(-1)))\n",
    "    p_org=outputs.logits[0,-1,:][tokenizer(gt)['input_ids'][0]]\n",
    "\n",
    "    decoder_temp = tokenizer([per_ques], return_tensors=\"pt\", padding=True)\n",
    "    decoder_input_ids_, decoder_attention_mask = decoder_temp[\"input_ids\"], decoder_temp[\"attention_mask\"]\n",
    "    decoder_input_ids_, decoder_attention_mask = decoder_input_ids_.to(device), decoder_attention_mask.to(device)\n",
    "\n",
    "    with torch.no_grad():\n",
    "        outputs_ctft = model(\n",
    "            input_ids=decoder_input_ids_,\n",
    "            attention_mask=decoder_attention_mask,\n",
    "            output_hidden_states=True\n",
    "        )\n",
    "    all_hidden_states_ctft = outputs_ctft['hidden_states']\n",
    "    exec(per_ques[:-2],local_vars)\n",
    "    wrong_gt=str(local_vars[per_ques[-3]]%23)\n",
    "    # print(wrong_gt)\n",
    "    # print(wrong_gt==tokenizer.decode(outputs_ctft.logits[0,-1,:].argmax(-1)))\n",
    "    res=[]\n",
    "    for layer_to_intervene in range(0, 12):\n",
    "        cur_layer_res=[]\n",
    "        # intervene\n",
    "        for idx in range(0,len(decoder_input_ids_[0])):\n",
    "            hidden_states = all_hidden_states[layer_to_intervene].clone()\n",
    "            with torch.no_grad():\n",
    "                for i in range(layer_to_intervene, 12):\n",
    "                    if i< layer_to_intervene+2:\n",
    "                        hidden_states[0, idx:idx+2, :] = all_hidden_states_ctft[i][0, idx:idx+2, :]\n",
    "                    f_layer = model.transformer.h[i]\n",
    "                    hidden_states=f_layer(hidden_states)[0]\n",
    "                hidden_states = model.transformer.ln_f(hidden_states)\n",
    "                logits_ = torch.matmul(hidden_states, word_embedding.T)\n",
    "                cur_layer_res.append((p_org.cpu()-logits_[0,-1,tokenizer(gt)['input_ids'][0]].cpu())/np.abs(p_org.cpu()))\n",
    "        res.append(cur_layer_res)\n",
    "    return res"
   ]
  },
  {
   "cell_type": "code",
   "execution_count": 5,
   "metadata": {},
   "outputs": [],
   "source": [
    "def get_pe_subblock(org_ques,per_ques,block='attn'):\n",
    "    local_vars = {}\n",
    "    decoder_temp = tokenizer([org_ques], return_tensors=\"pt\", padding=True)\n",
    "    decoder_input_ids, decoder_attention_mask = decoder_temp[\"input_ids\"], decoder_temp[\"attention_mask\"]\n",
    "    decoder_input_ids, decoder_attention_mask = decoder_input_ids.to(device), decoder_attention_mask.to(device)\n",
    "    with torch.no_grad():\n",
    "        outputs = model(\n",
    "            input_ids=decoder_input_ids,\n",
    "            output_hidden_states=True\n",
    "        )\n",
    "    all_hidden_states = outputs['hidden_states']\n",
    "    exec(org_ques[:-2],local_vars)\n",
    "    # print(org_ques[:-2])\n",
    "    gt=str(local_vars[org_ques[-3]]%23)\n",
    "    # print(gt)\n",
    "    # print(gt==tokenizer.decode(outputs.logits[0,-1,:].argmax(-1)))\n",
    "    p_org=outputs.logits[0,-1,:][tokenizer(gt)['input_ids'][0]]\n",
    "\n",
    "    decoder_temp = tokenizer([per_ques], return_tensors=\"pt\", padding=True)\n",
    "    decoder_input_ids_, decoder_attention_mask = decoder_temp[\"input_ids\"], decoder_temp[\"attention_mask\"]\n",
    "    decoder_input_ids_, decoder_attention_mask = decoder_input_ids_.to(device), decoder_attention_mask.to(device)\n",
    "\n",
    "    with torch.no_grad():\n",
    "        outputs_ctft = model(\n",
    "            input_ids=decoder_input_ids_,\n",
    "            attention_mask=decoder_attention_mask,\n",
    "            output_hidden_states=True\n",
    "        )\n",
    "    all_hidden_states_ctft = outputs_ctft['hidden_states']\n",
    "    exec(per_ques[:-2],local_vars)\n",
    "    wrong_gt=str(local_vars[per_ques[-3]]%23)\n",
    "    # print(wrong_gt==tokenizer.decode(outputs_ctft.logits[0,-1,:].argmax(-1)))\n",
    "\n",
    "    res=[]\n",
    "    for layer_to_intervene in range(0, 12):\n",
    "        cur_layer_res=[]\n",
    "        # intervene\n",
    "        for idx in range(0,len(decoder_input_ids_[0])):\n",
    "            hidden_states = all_hidden_states[layer_to_intervene].clone()\n",
    "            with torch.no_grad():\n",
    "                for i in range(layer_to_intervene, 12):\n",
    "                    f_layer = model.transformer.h[i]\n",
    "                    if i< layer_to_intervene+2:\n",
    "                        hidden_states_ctft = torch.zeros(all_hidden_states_ctft[i][:, :, :].shape)\n",
    "                        hidden_states_ctft[...] = all_hidden_states_ctft[i][:, :, :]\n",
    "                        hidden_states_ctft=hidden_states_ctft.to(device)\n",
    "                        attn_output_ctft=f_layer.attn(f_layer.ln_1(hidden_states_ctft))[0]\n",
    "                        hidden_states_ctft=hidden_states_ctft+attn_output_ctft\n",
    "                        feed_forward_hidden_states_ctft=f_layer.mlp.c_proj(f_layer.mlp.act(f_layer.mlp.c_fc(f_layer.ln_2(hidden_states_ctft))))\n",
    "                        # attn\n",
    "                        residual = hidden_states\n",
    "                        hidden_states = f_layer.ln_1(hidden_states)\n",
    "                        attn_output = f_layer.attn(hidden_states)[0] \n",
    "                        if block=='attn':\n",
    "                            attn_output[0, idx:idx+2, :]=attn_output_ctft[0, idx:idx+2, :]\n",
    "                        hidden_states = attn_output + residual\n",
    "                        # mlp\n",
    "                        residual = hidden_states\n",
    "                        hidden_states = f_layer.ln_2(hidden_states)\n",
    "                        feed_forward_hidden_states = f_layer.mlp.c_proj(f_layer.mlp.act(f_layer.mlp.c_fc(hidden_states)))\n",
    "                        if block=='mlp':\n",
    "                            feed_forward_hidden_states[0, idx:idx+2, :]=feed_forward_hidden_states_ctft[0, idx:idx+2, :]\n",
    "                        hidden_states = residual + feed_forward_hidden_states\n",
    "                    else:\n",
    "                        hidden_states=f_layer(hidden_states)[0]\n",
    "                hidden_states = model.transformer.ln_f(hidden_states)\n",
    "                logits_ = torch.matmul(hidden_states, word_embedding.T)\n",
    "                \n",
    "                cur_layer_res.append((p_org.cpu()-logits_[0,-1,tokenizer(gt)['input_ids'][0]].cpu())/np.abs(p_org.cpu()))\n",
    "        res.append(cur_layer_res)\n",
    "    return res"
   ]
  },
  {
   "cell_type": "code",
   "execution_count": 6,
   "metadata": {},
   "outputs": [
    {
     "name": "stdout",
     "output_type": "stream",
     "text": [
      "o=18-15\n",
      "q=11-o\n",
      "k=q+18\n",
      "t=9+k\n",
      "s=18-t\n"
     ]
    }
   ],
   "source": [
    "import re  \n",
    "import random  \n",
    "\n",
    "def replace_target_number(input_string, which_num=0):  \n",
    "    matches = list(re.finditer(r'\\d+', input_string))  \n",
    "    \n",
    "    if len(matches) < 2:  \n",
    "        return input_string  \n",
    "\n",
    "    second_number_match = matches[which_num]  \n",
    "    second_number = second_number_match.group()    \n",
    "    start, end = second_number_match.span()       \n",
    "\n",
    "    new_number = second_number  \n",
    "    while new_number == second_number:  \n",
    "        new_number = str(random.randint(0, 22))  \n",
    "    \n",
    "    output_string = input_string[:start] + new_number + input_string[end:]  \n",
    "\n",
    "    return output_string  \n",
    "\n",
    "input_string = \"o=21-15\\nq=11-o\\nk=q+18\\nt=9+k\\ns=18-t\"  \n",
    "result = replace_target_number(input_string)  \n",
    "print(result)"
   ]
  },
  {
   "cell_type": "code",
   "execution_count": 7,
   "metadata": {},
   "outputs": [],
   "source": [
    "def plot_heatmap(res_list):\n",
    "    data=np.array(res_list)\n",
    "    data = np.mean(data,0)\n",
    "\n",
    "    plt.figure(figsize=(6, 3)) \n",
    "    cmap = mcolors.LinearSegmentedColormap.from_list(\"custom_colormap\", \n",
    "                                                    ['#e8f3f9','#41b5c4','#2080b9', '#24429b','#071d59'])\n",
    "    plt.imshow(data, cmap=cmap, aspect='auto')\n",
    "\n",
    "    cbar = plt.colorbar()\n",
    "\n",
    "    cbar.outline.set_visible(False)\n",
    "    cbar.ax.tick_params(labelsize=12) \n",
    "\n",
    "    plt.ylabel('Layer',fontsize=12)\n",
    "\n",
    "    plt.gca().spines['top'].set_visible(False)\n",
    "    plt.gca().spines['right'].set_visible(False)\n",
    "    plt.gca().spines['left'].set_visible(False)\n",
    "    plt.gca().spines['bottom'].set_visible(False)\n",
    "\n",
    "    la = ['Step1', 'Step2', 'Step3', 'Step4', 'Step5', 'Step6', '>>']\n",
    "    la_shifted = ['           ' + label for label in la[:-1]]+['    Q']\n",
    "\n",
    "    plt.xticks(ticks=np.arange(len(la))*6-0.5, labels=la_shifted,fontsize=12)\n",
    "    plt.yticks(ticks=np.arange(0,12,2), labels=np.arange(0,12,2),fontsize=12)\n",
    "    plt.tick_params(axis='x', which='both', top=True, labeltop=True, bottom=False, labelbottom=False)\n",
    "    plt.gca().tick_params(axis='y', which='both', length=0)\n",
    "\n",
    "    rows, cols = data.shape\n",
    "    for i in range(rows + 1):\n",
    "        if i>0 and i<rows:\n",
    "            plt.plot([-0.5, cols - 0.5], [i - 0.5, i - 0.5], color='black', alpha=0.02, linestyle='-', linewidth=0.5)\n",
    "        else:\n",
    "            plt.plot([-0.5, cols - 0.5], [i - 0.5, i - 0.5], color='black', alpha=0.02, linestyle='-', linewidth=1)\n",
    "    for j in range(cols + 1):\n",
    "        if j>0 and j<cols:\n",
    "            plt.plot([j - 0.5, j - 0.5], [-0.5, rows - 0.5], color='black', alpha=0.02, linestyle='-', linewidth=0.5)\n",
    "        else:\n",
    "            plt.plot([j - 0.5, j - 0.5], [-0.5, rows - 0.5], color='black', alpha=0.02, linestyle='-', linewidth=1)\n",
    "\n",
    "    plt.show()"
   ]
  },
  {
   "cell_type": "code",
   "execution_count": 8,
   "metadata": {
    "scrolled": true
   },
   "outputs": [],
   "source": [
    "with open('../data/test.json') as f:\n",
    "    testdata=json.load(f)\n",
    "testdata=[item for item in testdata if item['step']=='6' and item['type']=='test']"
   ]
  },
  {
   "cell_type": "code",
   "execution_count": 9,
   "metadata": {},
   "outputs": [
    {
     "name": "stderr",
     "output_type": "stream",
     "text": [
      "100%|██████████| 100/100 [04:36<00:00,  2.77s/it]\n"
     ]
    },
    {
     "data": {
      "image/png": "[encoded data removed]",
      "text/plain": [
       "<Figure size 600x300 with 2 Axes>"
      ]
     },
     "metadata": {},
     "output_type": "display_data"
    }
   ],
   "source": [
    "# residual patching\n",
    "random.seed(0)\n",
    "res_list=[]\n",
    "for item in tqdm(testdata[:100]):\n",
    "    prompt=f\"{item['premise']}\\n{item['target']}>>\"\n",
    "    res=get_pe_residual(prompt,replace_target_number(prompt))\n",
    "    res_list.append(res)\n",
    "plot_heatmap(res_list)"
   ]
  },
  {
   "cell_type": "code",
   "execution_count": 10,
   "metadata": {},
   "outputs": [
    {
     "name": "stderr",
     "output_type": "stream",
     "text": [
      "  0%|          | 0/100 [00:00<?, ?it/s]"
     ]
    },
    {
     "name": "stderr",
     "output_type": "stream",
     "text": [
      "100%|██████████| 100/100 [05:55<00:00,  3.55s/it]\n"
     ]
    },
    {
     "data": {
      "image/png": "[encoded data removed]",
      "text/plain": [
       "<Figure size 600x300 with 2 Axes>"
      ]
     },
     "metadata": {},
     "output_type": "display_data"
    }
   ],
   "source": [
    "# attn patching\n",
    "random.seed(0)\n",
    "res_list=[]\n",
    "for item in tqdm(testdata[:100]):\n",
    "    prompt=f\"{item['premise']}\\n{item['target']}>>\"\n",
    "    res=get_pe_subblock(prompt,replace_target_number(prompt),'attn')\n",
    "    res_list.append(res)\n",
    "plot_heatmap(res_list)"
   ]
  }
 ],
 "metadata": {
  "kernelspec": {
   "display_name": "Python 3",
   "language": "python",
   "name": "python3"
  },
  "language_info": {
   "codemirror_mode": {
    "name": "ipython",
    "version": 3
   },
   "file_extension": ".py",
   "mimetype": "text/x-python",
   "name": "python",
   "nbconvert_exporter": "python",
   "pygments_lexer": "ipython3",
   "version": "3.10.16"
  }
 },
 "nbformat": 4,
 "nbformat_minor": 4
}
